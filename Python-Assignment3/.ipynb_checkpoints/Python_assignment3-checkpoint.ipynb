{
 "cells": [
  {
   "cell_type": "markdown",
   "metadata": {},
   "source": [
    "# Assignment 3"
   ]
  },
  {
   "cell_type": "markdown",
   "metadata": {},
   "source": [
    "# Problem 1"
   ]
  },
  {
   "cell_type": "code",
   "execution_count": 10,
   "metadata": {},
   "outputs": [
    {
     "name": "stdout",
     "output_type": "stream",
     "text": [
      "Zero Division Error\n"
     ]
    }
   ],
   "source": [
    "try:\n",
    "    5/0\n",
    "except ZeroDivisionError:\n",
    "    print(\"Zero Division Error\")\n",
    "except e:\n",
    "    print(\"Exception occurred\")"
   ]
  },
  {
   "cell_type": "code",
   "execution_count": 11,
   "metadata": {},
   "outputs": [],
   "source": [
    "def compute(num):\n",
    "    try:\n",
    "        num/0\n",
    "    except:\n",
    "        print(\"Number divide by zero\")"
   ]
  },
  {
   "cell_type": "code",
   "execution_count": 12,
   "metadata": {},
   "outputs": [
    {
     "name": "stdout",
     "output_type": "stream",
     "text": [
      "Number divide by zero\n"
     ]
    }
   ],
   "source": [
    "compute(5)"
   ]
  },
  {
   "cell_type": "markdown",
   "metadata": {},
   "source": [
    "# Problem 2"
   ]
  },
  {
   "cell_type": "code",
   "execution_count": 14,
   "metadata": {},
   "outputs": [
    {
     "name": "stdout",
     "output_type": "stream",
     "text": [
      "Americans play Baseball\n",
      "Americans play Cricket\n",
      "Americans watch Baseball\n",
      "Americans watch Cricket\n",
      "Indians play Baseball\n",
      "Indians play Cricket\n",
      "Indians watch Baseball\n",
      "Indians watch Cricket\n"
     ]
    }
   ],
   "source": [
    "subjects=[\"Americans\",\"Indians\"]\n",
    "verbs=[\"play\",\"watch\"]\n",
    "objects=[\"Baseball\",\"Cricket\"]\n",
    "\n",
    "for sub in subjects:\n",
    "    for verb in verbs:\n",
    "        for obj in objects:\n",
    "            print(f'{sub} {verb} {obj}')"
   ]
  },
  {
   "cell_type": "markdown",
   "metadata": {},
   "source": [
    "# Problem 3"
   ]
  },
  {
   "cell_type": "code",
   "execution_count": 16,
   "metadata": {},
   "outputs": [
    {
     "name": "stdout",
     "output_type": "stream",
     "text": [
      "------------OUTPUT-------------\n",
      "\n",
      "The input array is: [1 2 3 4 5] \n",
      "\n",
      "Number of columns in output matrix should be: 3 \n",
      "\n",
      "Vander matrix of the input array in decreasing order of powers:\n",
      "\n",
      " [[ 1  1  1]\n",
      " [ 4  2  1]\n",
      " [ 9  3  1]\n",
      " [16  4  1]\n",
      " [25  5  1]] \n",
      "\n",
      "Vander matrix of the input array in increasing order of powers:\n",
      "\n",
      " [[ 1  1  1]\n",
      " [ 1  2  4]\n",
      " [ 1  3  9]\n",
      " [ 1  4 16]\n",
      " [ 1  5 25]] \n",
      "\n"
     ]
    }
   ],
   "source": [
    "import numpy as np\n",
    "   \n",
    "def generateVanderMatrix(vector, n, increasing=False):\n",
    "    \n",
    "    if not increasing:\n",
    "        op_matx = np.array([x**(n-1-i) for x in vector for i in range(n)]).reshape(vector.size,n)\n",
    "    elif increasing:\n",
    "        op_matx = np.array([x**i for x in vector for i in range(n)]).reshape(vector.size,n)\n",
    "    \n",
    "    return op_matx\n",
    "\n",
    "print(\"------------OUTPUT-------------\\n\")\n",
    "\n",
    "input_data = np.array([1,2,3,4,5])\n",
    "no_col_opmat = 3\n",
    "op_matx_dec_order = generateVanderMatrix(input_data,no_col_opmat,False)\n",
    "op_matx_inc_order = generateVanderMatrix(input_data,no_col_opmat,True)\n",
    "\n",
    "print(\"The input array is:\",input_data,\"\\n\")\n",
    "print(\"Number of columns in output matrix should be:\",no_col_opmat,\"\\n\")\n",
    "print(\"Vander matrix of the input array in decreasing order of powers:\\n\\n\",op_matx_dec_order,\"\\n\")\n",
    "print(\"Vander matrix of the input array in increasing order of powers:\\n\\n\",op_matx_inc_order,\"\\n\")\n",
    "    "
   ]
  },
  {
   "cell_type": "code",
   "execution_count": null,
   "metadata": {},
   "outputs": [],
   "source": []
  }
 ],
 "metadata": {
  "kernelspec": {
   "display_name": "Python 3",
   "language": "python",
   "name": "python3"
  },
  "language_info": {
   "codemirror_mode": {
    "name": "ipython",
    "version": 3
   },
   "file_extension": ".py",
   "mimetype": "text/x-python",
   "name": "python",
   "nbconvert_exporter": "python",
   "pygments_lexer": "ipython3",
   "version": "3.7.4"
  }
 },
 "nbformat": 4,
 "nbformat_minor": 2
}
